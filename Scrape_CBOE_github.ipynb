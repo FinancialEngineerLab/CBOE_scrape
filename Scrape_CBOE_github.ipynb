{
 "cells": [
  {
   "cell_type": "markdown",
   "metadata": {},
   "source": [
    "# CBOE Options data scrape\n",
    "#### Note: This is valid as at Oct 9, 2020, future changes in CBOE website may render this program inoperable\n",
    "\n",
    "- The CBOE options market statistics website has organized table format without protection, hence it is simple to scrape the tables using Pandas.\n",
    "- Normally, I would convert them to Pandas dataframes, but in this case - since there are multiple tables, I thought the best way is to keep them all in dictionary format and save under one pickle file. Else I would have multiple tables that needed to be stored under separate .csv files."
   ]
  },
  {
   "cell_type": "code",
   "execution_count": 1,
   "metadata": {},
   "outputs": [],
   "source": [
    "# Importing libraries\n",
    "import sys\n",
    "import datetime\n",
    "import time\n",
    "import pandas as pd\n",
    "import requests\n",
    "import pickle\n",
    "import random\n",
    "import matplotlib.pyplot as plt\n",
    "import matplotlib.ticker as mtick\n",
    "from pandas.plotting import register_matplotlib_converters\n",
    "register_matplotlib_converters()\n",
    "\n",
    "# Adding in filepath and file location to facilitate load and save\n",
    "filepath = r'C:\\Users\\path_to_your_file_location'\n",
    "pickle_file = filepath + r'\\CBOE_options_data.pkl'\n",
    "\n",
    "# URL address of CBOE site where I would like to scrape\n",
    "url_main = \"https://markets.cboe.com/us/options/market_statistics/daily/?mkt=cone&dt=\""
   ]
  },
  {
   "cell_type": "markdown",
   "metadata": {},
   "source": [
    "Unfortunately, I have just recently started to scrape the website and I believe CBOE only keep the daily statistics for a maximum of 1 year. Beyond that those are erroneous data."
   ]
  },
  {
   "cell_type": "code",
   "execution_count": 2,
   "metadata": {},
   "outputs": [
    {
     "name": "stdout",
     "output_type": "stream",
     "text": [
      "CBOE file upload successful\n",
      "Last date in the file: 2020-09-23\n",
      "334\n",
      "Adjusted for opt-out-days: 334\n"
     ]
    }
   ],
   "source": [
    "\"\"\"Scraping from CBOE website\n",
    "- Enter the date from when to update the pickle file\n",
    "Original file saved under pickle format, with dictionary format\n",
    "First valid data = '2019-10-07     80497922.0'\n",
    "\"\"\"\n",
    "# Over here I have to manually incorporate the holidays so to delete them after downloading, for these dates the scraped data are incorrect\n",
    "# This procedure works after the pickle file is created and run for subsequent times.\n",
    "# For first time download, this module here will have error and exited - please continue to next module for the scraping.\n",
    "# opt_out_days: Opting out public holidays\n",
    "opt_out_days = ['2019-11-28', '2019-12-25', '2020-01-01', '2020-01-20', '2020-02-17', '2020-04-10',\n",
    "                '2020-05-25', '2020-07-03', '2020-09-07']\n",
    "weekdays =[]\n",
    "scrapeDict ={}\n",
    "\n",
    "def get(url):\n",
    "    headers = {}\n",
    "    resp = requests.get(url)\n",
    "    if resp.ok:\n",
    "        return resp.text\n",
    "\n",
    "\"\"\"The following to check if there is existing pickle file already stored and available, program will\n",
    "open it and continue to download from the last date.\n",
    "If there is no existing file, program will continue with the download\"\"\"\n",
    "# Loading in existing pickle file to merge with new data\n",
    "try:\n",
    "    infile = open(pickle_file,'rb')\n",
    "    scrapeDict = pickle.load(infile)\n",
    "    infile.close()\n",
    "    print('CBOE file upload successful')\n",
    "    print('Last date in the file:', list(scrapeDict.keys())[-1])\n",
    "except:\n",
    "    print('CBOE file not found, exiting program...')\n",
    "    sys.exit()\n",
    "\n",
    "# Getting rid of holidays listed under [opt_out_days]\n",
    "print(len(scrapeDict.keys()))\n",
    "\n",
    "for i in opt_out_days:\n",
    "    try: \n",
    "        del scrapeDict[datetime.datetime.strptime(i,'%Y-%m-%d').date()]\n",
    "    except KeyError:\n",
    "        continue\n",
    "print('Adjusted for opt-out-days:', len(scrapeDict.keys())) "
   ]
  },
  {
   "cell_type": "code",
   "execution_count": 3,
   "metadata": {},
   "outputs": [
    {
     "name": "stdin",
     "output_type": "stream",
     "text": [
      "Enter starting date (YYYYMMDD) or <enter> for the last date in file :  \n"
     ]
    },
    {
     "name": "stdout",
     "output_type": "stream",
     "text": [
      "Running:\n",
      "2020-09-23|2020-09-24|2020-09-25|2020-09-28|2020-09-29|2020-09-30|2020-10-01|2020-10-02|2020-10-05|2020-10-06|2020-10-07|2020-10-08|"
     ]
    }
   ],
   "source": [
    "\"\"\"This part is to scrape from CBOE website and save the file\"\"\"\n",
    "inputStartDate = input('Enter starting date (YYYYMMDD) or <enter> for the last date in file : ')\n",
    "if inputStartDate=='':\n",
    "    start_date = list(scrapeDict.keys())[-1]\n",
    "else:\n",
    "    start_date = datetime.date(int(inputStartDate[:4]), int(inputStartDate[4:6]), int(inputStartDate[6:]))\n",
    "end_date = datetime.date.today()\n",
    "delta = datetime.timedelta(days=1)\n",
    "\n",
    "run_date=start_date\n",
    "while run_date < end_date:\n",
    "    if run_date.weekday() not in [5,6]: #ie. Mon-Fri only\n",
    "        weekdays.append(run_date)\n",
    "    run_date += delta\n",
    "\n",
    "print('Running:') \n",
    "for get_date in weekdays:\n",
    "    html_date = datetime.datetime.strftime(get_date, '%Y-%m-%d')\n",
    "    data = get(url_main+html_date)\n",
    "    # As I mentioned above this is an easy site, I can just use Pandas read_html to extract the tables efficiently\n",
    "    scrapeDict[get_date] = pd.read_html(data)\n",
    "    print(get_date, end='|')\n",
    "    # Putting in random pauses so not to overwhelm the website and got blacklisted and banned\n",
    "    time.sleep(round(random.random()*3,1))\n",
    "\n",
    "outfile = open(pickle_file,'wb')\n",
    "pickle.dump(scrapeDict,outfile)\n",
    "outfile.close()\n",
    "print('Done!')"
   ]
  },
  {
   "cell_type": "markdown",
   "metadata": {},
   "source": [
    "### Data analysis section"
   ]
  },
  {
   "cell_type": "code",
   "execution_count": 20,
   "metadata": {},
   "outputs": [
    {
     "data": {
      "text/plain": [
       "[                                       RATIOS  RATIOS.1\n",
       " 0                        TOTAL PUT/CALL RATIO      0.80\n",
       " 1                        INDEX PUT/CALL RATIO      2.19\n",
       " 2     EXCHANGE TRADED PRODUCTS PUT/CALL RATIO      1.02\n",
       " 3                       EQUITY PUT/CALL RATIO      0.39\n",
       " 4  CBOE VOLATILITY INDEX (VIX) PUT/CALL RATIO      3.02\n",
       " 5                   SPX + SPXW PUT/CALL RATIO      1.81\n",
       " 6                          OEX PUT/CALL RATIO      1.71,\n",
       "   SUM OF ALL PRODUCTS SUM OF ALL PRODUCTS.1 SUM OF ALL PRODUCTS.2  \\\n",
       " 0                 NaN                  CALL                   PUT   \n",
       " 1              VOLUME               2428558               1936445   \n",
       " 2       OPEN INTEREST             199229542             170371643   \n",
       " \n",
       "   SUM OF ALL PRODUCTS.3  \n",
       " 0                 TOTAL  \n",
       " 1               4365003  \n",
       " 2             369601185  ,\n",
       "    INDEX OPTIONS INDEX OPTIONS.1 INDEX OPTIONS.2 INDEX OPTIONS.3\n",
       " 0            NaN            CALL             PUT           TOTAL\n",
       " 1         VOLUME          393592          860639         1254231\n",
       " 2  OPEN INTEREST         9313458        12601290        21914748,\n",
       "   EXCHANGE TRADED PRODUCTS EXCHANGE TRADED PRODUCTS.1  \\\n",
       " 0                      NaN                       CALL   \n",
       " 1                   VOLUME                     456838   \n",
       " 2            OPEN INTEREST                   49589157   \n",
       " \n",
       "   EXCHANGE TRADED PRODUCTS.2 EXCHANGE TRADED PRODUCTS.3  \n",
       " 0                        PUT                      TOTAL  \n",
       " 1                     465041                     921879  \n",
       " 2                   58417035                  108006192  ,\n",
       "   EQUITY OPTIONS EQUITY OPTIONS.1 EQUITY OPTIONS.2 EQUITY OPTIONS.3\n",
       " 0            NaN             CALL              PUT            TOTAL\n",
       " 1         VOLUME          1578128           610765          2188893\n",
       " 2  OPEN INTEREST        140326927         99353318        239680245,\n",
       "   CBOE VOLATILITY INDEX (VIX) CBOE VOLATILITY INDEX (VIX).1  \\\n",
       " 0                         NaN                          CALL   \n",
       " 1                      VOLUME                         88051   \n",
       " 2               OPEN INTEREST                       3371899   \n",
       " \n",
       "   CBOE VOLATILITY INDEX (VIX).2 CBOE VOLATILITY INDEX (VIX).3  \n",
       " 0                           PUT                         TOTAL  \n",
       " 1                        265888                        353939  \n",
       " 2                       2668195                       6040094  ,\n",
       "       SPX + SPXW SPX + SPXW.1 SPX + SPXW.2 SPX + SPXW.3\n",
       " 0            NaN         CALL          PUT        TOTAL\n",
       " 1         VOLUME       277017       502101       779118\n",
       " 2  OPEN INTEREST      4549714      8388073     12937787,\n",
       "              OEX OEX.1 OEX.2  OEX.3\n",
       " 0            NaN  CALL   PUT  TOTAL\n",
       " 1         VOLUME   126   215    341\n",
       " 2  OPEN INTEREST  1163  2340   3503]"
      ]
     },
     "execution_count": 20,
     "metadata": {},
     "output_type": "execute_result"
    }
   ],
   "source": [
    "\"\"\"Here we just get a look of how the tables are stacked up\"\"\"\n",
    "pd.read_html(data)"
   ]
  },
  {
   "cell_type": "code",
   "execution_count": 9,
   "metadata": {},
   "outputs": [
    {
     "name": "stdout",
     "output_type": "stream",
     "text": [
      "0 RATIOS\n",
      "1 SUM OF ALL PRODUCTS\n",
      "2 INDEX OPTIONS\n",
      "3 EXCHANGE TRADED PRODUCTS\n",
      "4 EQUITY OPTIONS\n",
      "5 CBOE VOLATILITY INDEX (VIX)\n",
      "6 SPX + SPXW\n",
      "7 OEX\n"
     ]
    }
   ],
   "source": [
    "\"\"\"Getting a clearer view from below: 8 tables in all\"\"\"\n",
    "# Get Table list\n",
    "lastDate = list(scrapeDict.keys())[-1]  # get the last date on the file\n",
    "for table in range(len(scrapeDict[lastDate])):\n",
    "    print(table, scrapeDict[lastDate][table].columns[0])\n"
   ]
  },
  {
   "cell_type": "code",
   "execution_count": 10,
   "metadata": {},
   "outputs": [
    {
     "data": {
      "text/html": [
       "<div>\n",
       "<style scoped>\n",
       "    .dataframe tbody tr th:only-of-type {\n",
       "        vertical-align: middle;\n",
       "    }\n",
       "\n",
       "    .dataframe tbody tr th {\n",
       "        vertical-align: top;\n",
       "    }\n",
       "\n",
       "    .dataframe thead th {\n",
       "        text-align: right;\n",
       "    }\n",
       "</style>\n",
       "<table border=\"1\" class=\"dataframe\">\n",
       "  <thead>\n",
       "    <tr style=\"text-align: right;\">\n",
       "      <th></th>\n",
       "      <th>EQUITY OPTIONS</th>\n",
       "      <th>EQUITY OPTIONS.1</th>\n",
       "      <th>EQUITY OPTIONS.2</th>\n",
       "      <th>EQUITY OPTIONS.3</th>\n",
       "    </tr>\n",
       "  </thead>\n",
       "  <tbody>\n",
       "    <tr>\n",
       "      <th>0</th>\n",
       "      <td>NaN</td>\n",
       "      <td>CALL</td>\n",
       "      <td>PUT</td>\n",
       "      <td>TOTAL</td>\n",
       "    </tr>\n",
       "    <tr>\n",
       "      <th>1</th>\n",
       "      <td>VOLUME</td>\n",
       "      <td>1578128</td>\n",
       "      <td>610765</td>\n",
       "      <td>2188893</td>\n",
       "    </tr>\n",
       "    <tr>\n",
       "      <th>2</th>\n",
       "      <td>OPEN INTEREST</td>\n",
       "      <td>140326927</td>\n",
       "      <td>99353318</td>\n",
       "      <td>239680245</td>\n",
       "    </tr>\n",
       "  </tbody>\n",
       "</table>\n",
       "</div>"
      ],
      "text/plain": [
       "  EQUITY OPTIONS EQUITY OPTIONS.1 EQUITY OPTIONS.2 EQUITY OPTIONS.3\n",
       "0            NaN             CALL              PUT            TOTAL\n",
       "1         VOLUME          1578128           610765          2188893\n",
       "2  OPEN INTEREST        140326927         99353318        239680245"
      ]
     },
     "execution_count": 10,
     "metadata": {},
     "output_type": "execute_result"
    }
   ],
   "source": [
    "\"\"\"How each table looks like - All in same organized format, hence this makes analysing the data much easier\n",
    "Row 1 for volume, 2 for Open Interest.\n",
    "Column 1 for Call options, 2 for Put options and 3 for Total\"\"\"\n",
    "table=4\n",
    "scrapeDict[lastDate][table]"
   ]
  },
  {
   "cell_type": "code",
   "execution_count": 13,
   "metadata": {},
   "outputs": [
    {
     "data": {
      "image/png": "[encoded data removed]",
      "text/plain": [
       "<Figure size 720x432 with 2 Axes>"
      ]
     },
     "metadata": {
      "needs_background": "light"
     },
     "output_type": "display_data"
    }
   ],
   "source": [
    "\"\"\"Plotting the changes overtime as well as Put-Call ratio\"\"\"\n",
    "# Select which table to plot, and to plot either Volume or Open Interest\n",
    "table=4\n",
    "# Select Volume(1) or Open Interest(2):\n",
    "select_V_OI = 2\n",
    "###############################################\n",
    "nu_rowNum,nu_colNum = select_V_OI,2   # Put\n",
    "de_rowNum,de_colNum = select_V_OI,1   # Call\n",
    "\n",
    "# Plotting ratios\n",
    "mainTitle = scrapeDict[lastDate][table].columns[0]\n",
    "subTitle = scrapeDict[lastDate][table].iloc[de_rowNum,de_colNum-1]\n",
    "title_str = mainTitle+' - PUT/CALL '+subTitle\n",
    "numerator = [float(scrapeDict[j][table].iloc[nu_rowNum,nu_colNum]) for j in scrapeDict.keys()]\n",
    "denominator = [float(scrapeDict[j][table].iloc[de_rowNum,de_colNum]) for j in scrapeDict.keys()]\n",
    "reqRatio = [numerator[k]/denominator[k] for k in range(len(numerator))]\n",
    "\n",
    "ratioSeries = pd.Series(data=reqRatio, index=scrapeDict.keys())\n",
    "nuSeries = pd.Series(data=numerator, index=scrapeDict.keys())\n",
    "deSeries = pd.Series(data=denominator, index=scrapeDict.keys())\n",
    "\n",
    "fig, ax = plt.subplots(2, figsize=(10,6))\n",
    "ax[0].plot(nuSeries[85:], label='PUT '+subTitle, c='r')\n",
    "ax[0].plot(deSeries[85:], label='CALL '+subTitle, c='g')\n",
    "\n",
    "ax[1].plot(ratioSeries[85:], label='Ratio', c='b')\n",
    "mtick.MaxNLocator(10)\n",
    "ax[0].set_title(title_str)\n",
    "ax[0].legend()\n",
    "ax[1].legend()\n",
    "plt.savefig('CBOE_vol.png')\n"
   ]
  },
  {
   "cell_type": "code",
   "execution_count": null,
   "metadata": {},
   "outputs": [],
   "source": []
  }
 ],
 "metadata": {
  "kernelspec": {
   "display_name": "Python 3",
   "language": "python",
   "name": "python3"
  },
  "language_info": {
   "codemirror_mode": {
    "name": "ipython",
    "version": 3
   },
   "file_extension": ".py",
   "mimetype": "text/x-python",
   "name": "python",
   "nbconvert_exporter": "python",
   "pygments_lexer": "ipython3",
   "version": "3.7.9"
  }
 },
 "nbformat": 4,
 "nbformat_minor": 4
}
